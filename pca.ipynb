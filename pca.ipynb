{
 "cells": [
  {
   "cell_type": "markdown",
   "metadata": {},
   "source": [
    "# PCA by gradient descent\n",
    "## Will Townes\n",
    "\n",
    "This code was originally based on https://gist.github.com/ahwillia/4c10830640d325e0cab978bc18c6263a "
   ]
  },
  {
   "cell_type": "code",
   "execution_count": 1,
   "metadata": {},
   "outputs": [],
   "source": [
    "import numpy as np\n",
    "import tensorflow as tf\n",
    "from matplotlib import pyplot as plt"
   ]
  },
  {
   "cell_type": "code",
   "execution_count": 2,
   "metadata": {},
   "outputs": [
    {
     "name": "stdout",
     "output_type": "stream",
     "text": [
      "Iteration: 0, loss: 1.065E+01, objective: 1.065E+01\n",
      "Iteration: 100, loss: 4.545E+00, objective: 4.545E+00\n",
      "Iteration: 200, loss: 2.161E+00, objective: 2.161E+00\n",
      "Iteration: 300, loss: 3.281E-01, objective: 3.284E-01\n",
      "Iteration: 400, loss: 5.677E-02, objective: 5.698E-02\n",
      "Iteration: 500, loss: 1.242E-02, objective: 1.263E-02\n",
      "Iteration: 600, loss: 3.356E-03, objective: 3.568E-03\n",
      "Iteration: 700, loss: 1.031E-03, objective: 1.243E-03\n",
      "Iteration: 800, loss: 3.267E-04, objective: 5.392E-04\n",
      "Iteration: 900, loss: 9.928E-05, objective: 3.118E-04\n"
     ]
    }
   ],
   "source": [
    "N = 100 #number of observations\n",
    "J = 200 #number of features\n",
    "L = 5 #number of latent dimensions\n",
    "df = (N+J)*L\n",
    "\n",
    "# generate data\n",
    "U_true = np.random.randn(N,L)\n",
    "V_true = np.random.randn(J,L)\n",
    "Y_true = U_true @ V_true.T\n",
    "Y_tf = tf.constant(Y_true.astype(np.float32))\n",
    "denom = tf.constant(float(N*J-df))\n",
    "\n",
    "U = tf.Variable(np.random.randn(N,L).astype(np.float32))\n",
    "V = tf.Variable(np.random.randn(J,L).astype(np.float32))\n",
    "\n",
    "# regularization \n",
    "alpha = 1e-4\n",
    "alphaU = tf.constant(float(alpha/(N*L)))\n",
    "alphaV = tf.constant(float(alpha/(J*L)))\n",
    "\n",
    "# optimization setup\n",
    "optimizer = tf.keras.optimizers.Adam(0.01)\n",
    "loss_history = []\n",
    "obj_history = []\n",
    "\n",
    "def train_step(U,V):\n",
    "    with tf.GradientTape() as tape:\n",
    "        Y_est = tf.matmul(U,tf.transpose(V))\n",
    "        loss = tf.reduce_sum((Y_tf-Y_est)**2)/denom\n",
    "    # Add asserts to check the shape of the output.\n",
    "    tf.debugging.assert_equal(Y_est.shape, (N, J))\n",
    "    loss_history.append(loss.numpy())\n",
    "    # regularized loss\n",
    "    regU = alphaU*tf.reduce_sum(U**2)\n",
    "    regV = alphaV*tf.reduce_sum(V**2)\n",
    "    objective = loss + regU + regV\n",
    "    obj_history.append(objective.numpy())\n",
    "    # compute gradients\n",
    "    grads = tape.gradient(loss, [U,V])\n",
    "    optimizer.apply_gradients(zip(grads, [U,V]))\n",
    "\n",
    "#def train(epochs):\n",
    "#  for epoch in range(epochs):\n",
    "#    for (batch, (images, labels)) in enumerate(dataset):\n",
    "#      train_step(images, labels)\n",
    "#    print ('Epoch {} finished'.format(epoch))\n",
    "\n",
    "def train(iters):\n",
    "    for i in range(iters):\n",
    "        train_step(U,V)\n",
    "        msg = 'Iteration: {}, loss: {:.3E}, objective: {:.3E}'\n",
    "        if i%100==0:\n",
    "            print(msg.format(i,loss_history[i],obj_history[i]))\n",
    "            \n",
    "train(1000)"
   ]
  },
  {
   "cell_type": "code",
   "execution_count": 3,
   "metadata": {},
   "outputs": [
    {
     "data": {
      "image/png": "[encoded data removed]",
      "text/plain": [
       "<Figure size 432x288 with 1 Axes>"
      ]
     },
     "metadata": {
      "needs_background": "light"
     },
     "output_type": "display_data"
    }
   ],
   "source": [
    "plt.plot(loss_history)\n",
    "plt.xlabel('iteration')\n",
    "plt.ylabel('loss (MSE)');"
   ]
  },
  {
   "cell_type": "code",
   "execution_count": null,
   "metadata": {},
   "outputs": [],
   "source": []
  }
 ],
 "metadata": {
  "kernelspec": {
   "display_name": "Python 3",
   "language": "python",
   "name": "python3"
  },
  "language_info": {
   "codemirror_mode": {
    "name": "ipython",
    "version": 3
   },
   "file_extension": ".py",
   "mimetype": "text/x-python",
   "name": "python",
   "nbconvert_exporter": "python",
   "pygments_lexer": "ipython3",
   "version": "3.7.8"
  }
 },
 "nbformat": 4,
 "nbformat_minor": 4
}
