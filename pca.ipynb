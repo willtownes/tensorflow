{
 "cells": [
  {
   "cell_type": "markdown",
   "metadata": {},
   "source": [
    "# PCA by gradient descent\n",
    "## Will Townes\n",
    "\n",
    "This code was copied from https://gist.github.com/ahwillia/4c10830640d325e0cab978bc18c6263a then modified."
   ]
  },
  {
   "cell_type": "code",
   "execution_count": null,
   "metadata": {},
   "outputs": [],
   "source": [
    "import numpy as np\n",
    "import tensorflow as tf\n",
    "\n",
    "# N, size of matrix. R, rank of data\n",
    "N = 100\n",
    "R = 5\n",
    "\n",
    "# generate data\n",
    "W_true = np.random.randn(N,R)\n",
    "C_true = np.random.randn(R,N)\n",
    "Y_true = np.dot(W_true, C_true)\n",
    "Y_tf = tf.constant(Y_true.astype(np.float32))\n",
    "\n",
    "W = tf.Variable(np.random.randn(N,R).astype(np.float32))\n",
    "C = tf.Variable(np.random.randn(R,N).astype(np.float32))\n",
    "Y_est = tf.matmul(W,C)\n",
    "loss = tf.reduce_sum((Y_tf-Y_est)**2)\n",
    "\n",
    "# regularization \n",
    "alpha = tf.constant(1e-4)\n",
    "regW = alpha*tf.reduce_sum(W**2)\n",
    "regC = alpha*tf.reduce_sum(C**2)\n",
    "\n",
    "# full objective\n",
    "objective = loss + regW + regC\n",
    "\n",
    "# optimization setup\n",
    "train_step = tf.train.AdamOptimizer(0.001).minimize(objective)\n",
    "\n",
    "# fit the model\n",
    "init_op = tf.initialize_all_variables()\n",
    "with tf.Session() as sess:\n",
    "    sess.run(init_op)\n",
    "    for n in range(10000):\n",
    "        sess.run(train_step)\n",
    "        if (n+1) % 1000 == 0:\n",
    "            print('iter %i, %f' % (n+1, sess.run(objective)))"
   ]
  }
 ],
 "metadata": {
  "kernelspec": {
   "display_name": "Python 3",
   "language": "python",
   "name": "python3"
  },
  "language_info": {
   "codemirror_mode": {
    "name": "ipython",
    "version": 3
   },
   "file_extension": ".py",
   "mimetype": "text/x-python",
   "name": "python",
   "nbconvert_exporter": "python",
   "pygments_lexer": "ipython3",
   "version": "3.7.8"
  }
 },
 "nbformat": 4,
 "nbformat_minor": 4
}
